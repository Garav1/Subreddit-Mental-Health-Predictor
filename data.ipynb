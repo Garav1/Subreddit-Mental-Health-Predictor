{
 "cells": [
  {
   "cell_type": "code",
   "execution_count": 1,
   "id": "0762da4f",
   "metadata": {},
   "outputs": [
    {
     "name": "stderr",
     "output_type": "stream",
     "text": [
      "[nltk_data] Downloading package stopwords to\n",
      "[nltk_data]     C:\\Users\\garav\\AppData\\Roaming\\nltk_data...\n",
      "[nltk_data]   Package stopwords is already up-to-date!\n",
      "[nltk_data] Downloading package wordnet to\n",
      "[nltk_data]     C:\\Users\\garav\\AppData\\Roaming\\nltk_data...\n",
      "[nltk_data]   Package wordnet is already up-to-date!\n"
     ]
    },
    {
     "name": "stdout",
     "output_type": "stream",
     "text": [
      "                                          clean_text subreddit\n",
      "0  anyone else think important part life relation...       BPD\n",
      "1  hello fellow friend im bpd spectrum discourage...       BPD\n",
      "2  f bf told today said wish could better like do...       BPD\n",
      "3  okay im open many thing ive done past im proud...       BPD\n",
      "4                                            removed       BPD\n"
     ]
    }
   ],
   "source": [
    "import pandas as pd\n",
    "import re\n",
    "import nltk\n",
    "from nltk.corpus import stopwords\n",
    "from nltk.stem import WordNetLemmatizer\n",
    "\n",
    "nltk.download('stopwords')\n",
    "nltk.download('wordnet')\n",
    "\n",
    "# Load the CSV \n",
    "df = pd.read_csv(\"mental_disorders_reddit.csv\", encoding='utf-8-sig')\n",
    "\n",
    "# Preprocessing \n",
    "stop_words = set(stopwords.words(\"english\"))\n",
    "lemmatizer = WordNetLemmatizer()\n",
    "\n",
    "def clean_text(text):\n",
    "    if pd.isnull(text):\n",
    "        return \"\"\n",
    "    text = re.sub(r\"http\\S+\", \"\", text)\n",
    "    text = re.sub(r\"[^a-zA-Z\\s]\", \"\", text)\n",
    "    text = text.lower()\n",
    "    tokens = text.split()\n",
    "    tokens = [lemmatizer.lemmatize(word) for word in tokens if word not in stop_words]\n",
    "    return \" \".join(tokens)\n",
    "\n",
    "# Apply cleaning to the main post body\n",
    "df[\"clean_text\"] = df[\"selftext\"].apply(clean_text)\n",
    "\n",
    "df = df[df[\"clean_text\"].str.strip() != \"\"]\n",
    "\n",
    "# Final dataset preview\n",
    "print(df[[\"clean_text\", \"subreddit\"]].head())\n"
   ]
  },
  {
   "cell_type": "code",
   "execution_count": 2,
   "id": "95c2bc42",
   "metadata": {},
   "outputs": [
    {
     "name": "stdout",
     "output_type": "stream",
     "text": [
      "Classes: ['Anxiety', 'BPD', 'bipolar', 'depression', 'mentalillness', 'schizophrenia']\n"
     ]
    }
   ],
   "source": [
    "from sklearn.model_selection import train_test_split\n",
    "from sklearn.preprocessing import LabelEncoder\n",
    "\n",
    "# Encode subreddits\n",
    "le = LabelEncoder()\n",
    "df[\"label_encoded\"] = le.fit_transform(df[\"subreddit\"])\n",
    "\n",
    "# Train-test split\n",
    "X_train, X_test, y_train, y_test = train_test_split(\n",
    "    df[\"clean_text\"], df[\"label_encoded\"], test_size=0.2, random_state=42\n",
    ")\n",
    "\n",
    "print(\"Classes:\", list(le.classes_))\n"
   ]
  },
  {
   "cell_type": "code",
   "execution_count": 3,
   "id": "45ab6885",
   "metadata": {},
   "outputs": [],
   "source": [
    "from sklearn.feature_extraction.text import TfidfVectorizer\n",
    "\n",
    "# TF-IDF vectorizer\n",
    "vectorizer = TfidfVectorizer(max_features=5000)\n",
    "X_train_tfidf = vectorizer.fit_transform(X_train)\n",
    "X_test_tfidf = vectorizer.transform(X_test)\n"
   ]
  },
  {
   "cell_type": "code",
   "execution_count": 4,
   "id": "3ee63b16",
   "metadata": {},
   "outputs": [
    {
     "name": "stdout",
     "output_type": "stream",
     "text": [
      "Accuracy: 0.7038341363265123\n",
      "               precision    recall  f1-score   support\n",
      "\n",
      "      Anxiety       0.81      0.80      0.80     33493\n",
      "          BPD       0.78      0.76      0.77     46579\n",
      "      bipolar       0.74      0.41      0.53      9407\n",
      "   depression       0.56      0.80      0.66     31264\n",
      "mentalillness       0.52      0.20      0.29      8704\n",
      "schizophrenia       0.66      0.21      0.32      4012\n",
      "\n",
      "     accuracy                           0.70    133459\n",
      "    macro avg       0.68      0.53      0.56    133459\n",
      " weighted avg       0.71      0.70      0.69    133459\n",
      "\n"
     ]
    }
   ],
   "source": [
    "from sklearn.linear_model import LogisticRegression\n",
    "from sklearn.metrics import classification_report, accuracy_score\n",
    "\n",
    "# Train model\n",
    "model = LogisticRegression(max_iter=1000)\n",
    "model.fit(X_train_tfidf, y_train)\n",
    "\n",
    "# Predict\n",
    "y_pred = model.predict(X_test_tfidf)\n",
    "\n",
    "# Evaluation\n",
    "print(\"Accuracy:\", accuracy_score(y_test, y_pred))\n",
    "print(classification_report(y_test, y_pred, target_names=le.classes_))\n"
   ]
  },
  {
   "cell_type": "code",
   "execution_count": 5,
   "id": "ab9009f6",
   "metadata": {},
   "outputs": [
    {
     "name": "stdout",
     "output_type": "stream",
     "text": [
      "Predicted Subreddit: depression\n"
     ]
    }
   ],
   "source": [
    "def predict_subreddit(text):\n",
    "    cleaned = clean_text(text)\n",
    "    vec = vectorizer.transform([cleaned])\n",
    "    pred = model.predict(vec)\n",
    "    return le.inverse_transform(pred)[0]\n",
    "\n",
    "# Test it\n",
    "test_text = \"I feel like someone eating my brain\"\n",
    "print(\"Predicted Subreddit:\", predict_subreddit(test_text))\n"
   ]
  }
 ],
 "metadata": {
  "kernelspec": {
   "display_name": "code",
   "language": "python",
   "name": "python3"
  },
  "language_info": {
   "codemirror_mode": {
    "name": "ipython",
    "version": 3
   },
   "file_extension": ".py",
   "mimetype": "text/x-python",
   "name": "python",
   "nbconvert_exporter": "python",
   "pygments_lexer": "ipython3",
   "version": "3.12.7"
  }
 },
 "nbformat": 4,
 "nbformat_minor": 5
}
